{
 "cells": [
  {
   "cell_type": "code",
   "execution_count": 4,
   "id": "2b7d09b6-89da-4fdc-9f2a-85071bd3dbfb",
   "metadata": {},
   "outputs": [
    {
     "name": "stdout",
     "output_type": "stream",
     "text": [
      "Epoch 1/5\n"
     ]
    },
    {
     "name": "stderr",
     "output_type": "stream",
     "text": [
      "/opt/anaconda3/lib/python3.11/site-packages/keras/src/layers/core/embedding.py:90: UserWarning: Argument `input_length` is deprecated. Just remove it.\n",
      "  warnings.warn(\n"
     ]
    },
    {
     "name": "stdout",
     "output_type": "stream",
     "text": [
      "\u001b[1m1009/1009\u001b[0m \u001b[32m━━━━━━━━━━━━━━━━━━━━\u001b[0m\u001b[37m\u001b[0m \u001b[1m9s\u001b[0m 8ms/step - accuracy: 0.5690 - loss: 3.8681\n",
      "Epoch 2/5\n",
      "\u001b[1m1009/1009\u001b[0m \u001b[32m━━━━━━━━━━━━━━━━━━━━\u001b[0m\u001b[37m\u001b[0m \u001b[1m8s\u001b[0m 8ms/step - accuracy: 0.5905 - loss: 2.8258\n",
      "Epoch 3/5\n",
      "\u001b[1m1009/1009\u001b[0m \u001b[32m━━━━━━━━━━━━━━━━━━━━\u001b[0m\u001b[37m\u001b[0m \u001b[1m8s\u001b[0m 8ms/step - accuracy: 0.6008 - loss: 2.6327\n",
      "Epoch 4/5\n",
      "\u001b[1m1009/1009\u001b[0m \u001b[32m━━━━━━━━━━━━━━━━━━━━\u001b[0m\u001b[37m\u001b[0m \u001b[1m8s\u001b[0m 8ms/step - accuracy: 0.6197 - loss: 2.4198\n",
      "Epoch 5/5\n",
      "\u001b[1m1009/1009\u001b[0m \u001b[32m━━━━━━━━━━━━━━━━━━━━\u001b[0m\u001b[37m\u001b[0m \u001b[1m8s\u001b[0m 8ms/step - accuracy: 0.6223 - loss: 2.3239\n",
      "Sentence Perplexity Score: [4.98796796 2.30097585]\n"
     ]
    }
   ],
   "source": [
    "import numpy as np\n",
    "import tensorflow as tf\n",
    "import pandas as pd\n",
    "from tensorflow.keras.preprocessing.text import Tokenizer\n",
    "from tensorflow.keras.preprocessing.sequence import pad_sequences\n",
    "from tensorflow.keras.models import Sequential\n",
    "from tensorflow.keras.layers import Embedding, LSTM, Dense\n",
    "\n",
    "# Example sentences (grammatically correct for self-supervised training)\n",
    "sentenceDataset = pd.read_csv(\"/Users/kana/Desktop/nlp/project/Grammar_Correction.csv\")\n",
    "sentences = sentenceDataset[\"Standard English\"]\n",
    "# Tokenization\n",
    "tokenizer = Tokenizer()\n",
    "tokenizer.fit_on_texts(sentences)\n",
    "vocab_size = len(tokenizer.word_index) + 1\n",
    "\n",
    "# Convert sentences to sequences\n",
    "sequences = tokenizer.texts_to_sequences(sentences)\n",
    "max_length = max(len(seq) for seq in sequences)\n",
    "padded_sequences = pad_sequences(sequences, maxlen=max_length, padding='post')\n",
    "\n",
    "# Shift output for self-supervised learning (Next Word Prediction)\n",
    "y_train = [seq[1:] + [0] for seq in sequences]  # Remove first word, append 0 for padding\n",
    "y_train = pad_sequences(y_train, maxlen=max_length, padding='post')  # Ensure equal length\n",
    "\n",
    "# Define LSTM Language Model\n",
    "model = Sequential([\n",
    "    Embedding(input_dim=vocab_size, output_dim=64, input_length=max_length),\n",
    "    LSTM(128, return_sequences=True),\n",
    "    LSTM(64, return_sequences=True),\n",
    "    Dense(vocab_size, activation='softmax')  # Predict next word probabilities\n",
    "])\n",
    "\n",
    "# Compile Model\n",
    "model.compile(loss='sparse_categorical_crossentropy', optimizer='adam', metrics=['accuracy'])\n",
    "\n",
    "# Train Model\n",
    "model.fit(padded_sequences, y_train, epochs=5, batch_size=2)\n",
    "\n",
    "# Test Sentence (Incorrect Grammar)\n",
    "test_sentence = [\"She go to school every day.\"]  # Incorrect grammar\n",
    "test_seq = tokenizer.texts_to_sequences(test_sentence)\n",
    "test_padded = pad_sequences(test_seq, maxlen=max_length, padding='post')\n",
    "\n",
    "# Compute Perplexity for Grammar Error Detection\n",
    "loss = model.evaluate(test_padded, y_train[:1], verbose=0)\n",
    "perplexity = np.exp(loss)\n",
    "print(f\"Sentence Perplexity Score: {perplexity}\")"
   ]
  },
  {
   "cell_type": "code",
   "execution_count": null,
   "id": "eac86ff6-8aec-41b0-b74d-b1260a0ccd8b",
   "metadata": {},
   "outputs": [
    {
     "name": "stdout",
     "output_type": "stream",
     "text": [
      "Hello\n"
     ]
    }
   ],
   "source": []
  },
  {
   "cell_type": "code",
   "execution_count": null,
   "id": "0a60751f-a5d1-4392-9b37-300496e71267",
   "metadata": {},
   "outputs": [],
   "source": []
  },
  {
   "cell_type": "code",
   "execution_count": null,
   "id": "f273a65d-dd8b-4329-a940-aa79c2c09249",
   "metadata": {},
   "outputs": [],
   "source": []
  }
 ],
 "metadata": {
  "kernelspec": {
   "display_name": "Python 3 (ipykernel)",
   "language": "python",
   "name": "python3"
  },
  "language_info": {
   "codemirror_mode": {
    "name": "ipython",
    "version": 3
   },
   "file_extension": ".py",
   "mimetype": "text/x-python",
   "name": "python",
   "nbconvert_exporter": "python",
   "pygments_lexer": "ipython3",
   "version": "3.11.7"
  }
 },
 "nbformat": 4,
 "nbformat_minor": 5
}
