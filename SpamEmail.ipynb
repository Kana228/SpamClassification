{
 "cells": [
  {
   "cell_type": "code",
   "execution_count": 31,
   "metadata": {},
   "outputs": [],
   "source": [
    "import numpy as np      \n",
    "import pandas as pd     \n",
    "import matplotlib.pyplot as plt\n",
    "# %matplotlib inline\n",
    "from wordcloud import WordCloud\n",
    "import nltk\n",
    "from nltk.corpus import stopwords \n",
    "from nltk.stem import WordNetLemmatizer\n",
    "import re\n",
    "import seaborn as sns\n",
    "from collections import Counter\n",
    "from sklearn.feature_extraction.text import TfidfVectorizer\n",
    "from sklearn.model_selection import StratifiedKFold\n",
    "from sklearn.ensemble import ExtraTreesClassifier\n",
    "from sklearn.metrics import accuracy_score\n",
    "from imblearn.combine import SMOTETomek\n",
    "import numpy as np\n",
    "import pandas as pd\n",
    "from sklearn.svm import SVC\n",
    "from sklearn.neighbors import KNeighborsClassifier\n",
    "from sklearn.naive_bayes import MultinomialNB\n",
    "from sklearn.tree import DecisionTreeClassifier\n",
    "from sklearn.linear_model import LogisticRegression\n",
    "from sklearn.ensemble import RandomForestClassifier, AdaBoostClassifier, BaggingClassifier, ExtraTreesClassifier, GradientBoostingClassifier\n",
    "import numpy as np\n",
    "import pandas as pd\n",
    "import seaborn as sns\n",
    "import matplotlib.pyplot as plt\n",
    "from sklearn.metrics import accuracy_score, precision_score, recall_score, f1_score, roc_auc_score, confusion_matrix\n",
    "from sklearn.model_selection import cross_val_score\n",
    "from sklearn.feature_extraction.text import CountVectorizer, TfidfVectorizer\n",
    "import warnings\n",
    "warnings.filterwarnings('ignore')\n",
    "from sklearn.ensemble import ExtraTreesClassifier\n",
    "from sklearn.model_selection import RandomizedSearchCV, GridSearchCV"
   ]
  },
  {
   "cell_type": "code",
   "execution_count": 2,
   "metadata": {},
   "outputs": [
    {
     "data": {
      "text/html": [
       "<div>\n",
       "<style scoped>\n",
       "    .dataframe tbody tr th:only-of-type {\n",
       "        vertical-align: middle;\n",
       "    }\n",
       "\n",
       "    .dataframe tbody tr th {\n",
       "        vertical-align: top;\n",
       "    }\n",
       "\n",
       "    .dataframe thead th {\n",
       "        text-align: right;\n",
       "    }\n",
       "</style>\n",
       "<table border=\"1\" class=\"dataframe\">\n",
       "  <thead>\n",
       "    <tr style=\"text-align: right;\">\n",
       "      <th></th>\n",
       "      <th>sender</th>\n",
       "      <th>receiver</th>\n",
       "      <th>date</th>\n",
       "      <th>subject</th>\n",
       "      <th>body</th>\n",
       "      <th>label</th>\n",
       "      <th>urls</th>\n",
       "    </tr>\n",
       "  </thead>\n",
       "  <tbody>\n",
       "    <tr>\n",
       "      <th>0</th>\n",
       "      <td>Young Esposito &lt;Young@iworld.de&gt;</td>\n",
       "      <td>user4@gvc.ceas-challenge.cc</td>\n",
       "      <td>Tue, 05 Aug 2008 16:31:02 -0700</td>\n",
       "      <td>Never agree to be a loser</td>\n",
       "      <td>Buck up, your troubles caused by small dimensi...</td>\n",
       "      <td>1</td>\n",
       "      <td>1</td>\n",
       "    </tr>\n",
       "  </tbody>\n",
       "</table>\n",
       "</div>"
      ],
      "text/plain": [
       "                             sender                     receiver  \\\n",
       "0  Young Esposito <Young@iworld.de>  user4@gvc.ceas-challenge.cc   \n",
       "\n",
       "                              date                    subject  \\\n",
       "0  Tue, 05 Aug 2008 16:31:02 -0700  Never agree to be a loser   \n",
       "\n",
       "                                                body  label  urls  \n",
       "0  Buck up, your troubles caused by small dimensi...      1     1  "
      ]
     },
     "execution_count": 2,
     "metadata": {},
     "output_type": "execute_result"
    }
   ],
   "source": [
    "a = pd.read_csv('/Users/kana/Desktop/nlp/project/CEAS_08.csv')\n",
    "a.head(1)"
   ]
  },
  {
   "cell_type": "code",
   "execution_count": 3,
   "metadata": {},
   "outputs": [
    {
     "name": "stderr",
     "output_type": "stream",
     "text": [
      "/var/folders/fj/_pbd8nw171d7sx8h499n9r6w0000gn/T/ipykernel_62693/4124089714.py:2: SettingWithCopyWarning: \n",
      "A value is trying to be set on a copy of a slice from a DataFrame\n",
      "\n",
      "See the caveats in the documentation: https://pandas.pydata.org/pandas-docs/stable/user_guide/indexing.html#returning-a-view-versus-a-copy\n",
      "  body_df.rename(columns={'label':'target','body':'message'}, inplace =True)\n",
      "/var/folders/fj/_pbd8nw171d7sx8h499n9r6w0000gn/T/ipykernel_62693/4124089714.py:3: SettingWithCopyWarning: \n",
      "A value is trying to be set on a copy of a slice from a DataFrame\n",
      "\n",
      "See the caveats in the documentation: https://pandas.pydata.org/pandas-docs/stable/user_guide/indexing.html#returning-a-view-versus-a-copy\n",
      "  body_df.dropna(inplace=True)\n"
     ]
    },
    {
     "data": {
      "text/html": [
       "<div>\n",
       "<style scoped>\n",
       "    .dataframe tbody tr th:only-of-type {\n",
       "        vertical-align: middle;\n",
       "    }\n",
       "\n",
       "    .dataframe tbody tr th {\n",
       "        vertical-align: top;\n",
       "    }\n",
       "\n",
       "    .dataframe thead th {\n",
       "        text-align: right;\n",
       "    }\n",
       "</style>\n",
       "<table border=\"1\" class=\"dataframe\">\n",
       "  <thead>\n",
       "    <tr style=\"text-align: right;\">\n",
       "      <th></th>\n",
       "      <th>target</th>\n",
       "      <th>message</th>\n",
       "    </tr>\n",
       "  </thead>\n",
       "  <tbody>\n",
       "    <tr>\n",
       "      <th>0</th>\n",
       "      <td>1</td>\n",
       "      <td>Buck up, your troubles caused by small dimensi...</td>\n",
       "    </tr>\n",
       "    <tr>\n",
       "      <th>1</th>\n",
       "      <td>1</td>\n",
       "      <td>\\nUpgrade your sex and pleasures with these te...</td>\n",
       "    </tr>\n",
       "    <tr>\n",
       "      <th>2</th>\n",
       "      <td>1</td>\n",
       "      <td>&gt;+=+=+=+=+=+=+=+=+=+=+=+=+=+=+=+=+=+=+=+=+=+=+...</td>\n",
       "    </tr>\n",
       "    <tr>\n",
       "      <th>3</th>\n",
       "      <td>0</td>\n",
       "      <td>Would anyone object to removing .so from this ...</td>\n",
       "    </tr>\n",
       "    <tr>\n",
       "      <th>4</th>\n",
       "      <td>1</td>\n",
       "      <td>\\nWelcomeFastShippingCustomerSupport\\nhttp://7...</td>\n",
       "    </tr>\n",
       "    <tr>\n",
       "      <th>...</th>\n",
       "      <td>...</td>\n",
       "      <td>...</td>\n",
       "    </tr>\n",
       "    <tr>\n",
       "      <th>39149</th>\n",
       "      <td>1</td>\n",
       "      <td>\\n\\nCNN Alerts: My Custom Alert\\n\\n\\n\\n\\n\\n\\n ...</td>\n",
       "    </tr>\n",
       "    <tr>\n",
       "      <th>39150</th>\n",
       "      <td>1</td>\n",
       "      <td>\\n\\nCNN Alerts: My Custom Alert\\n\\n\\n\\n\\n\\n\\n ...</td>\n",
       "    </tr>\n",
       "    <tr>\n",
       "      <th>39151</th>\n",
       "      <td>0</td>\n",
       "      <td>Hello there ! \\nGreat work on the slide show v...</td>\n",
       "    </tr>\n",
       "    <tr>\n",
       "      <th>39152</th>\n",
       "      <td>0</td>\n",
       "      <td>\\nMail from sender , coming from intuit.com\\ns...</td>\n",
       "    </tr>\n",
       "    <tr>\n",
       "      <th>39153</th>\n",
       "      <td>0</td>\n",
       "      <td>Dear fellow Pythonistas!\\n\\nGuido has accepted...</td>\n",
       "    </tr>\n",
       "  </tbody>\n",
       "</table>\n",
       "<p>39154 rows × 2 columns</p>\n",
       "</div>"
      ],
      "text/plain": [
       "       target                                            message\n",
       "0           1  Buck up, your troubles caused by small dimensi...\n",
       "1           1  \\nUpgrade your sex and pleasures with these te...\n",
       "2           1  >+=+=+=+=+=+=+=+=+=+=+=+=+=+=+=+=+=+=+=+=+=+=+...\n",
       "3           0  Would anyone object to removing .so from this ...\n",
       "4           1  \\nWelcomeFastShippingCustomerSupport\\nhttp://7...\n",
       "...       ...                                                ...\n",
       "39149       1  \\n\\nCNN Alerts: My Custom Alert\\n\\n\\n\\n\\n\\n\\n ...\n",
       "39150       1  \\n\\nCNN Alerts: My Custom Alert\\n\\n\\n\\n\\n\\n\\n ...\n",
       "39151       0  Hello there ! \\nGreat work on the slide show v...\n",
       "39152       0  \\nMail from sender , coming from intuit.com\\ns...\n",
       "39153       0  Dear fellow Pythonistas!\\n\\nGuido has accepted...\n",
       "\n",
       "[39154 rows x 2 columns]"
      ]
     },
     "execution_count": 3,
     "metadata": {},
     "output_type": "execute_result"
    }
   ],
   "source": [
    "body_df = a[['label','body']]\n",
    "body_df.rename(columns={'label':'target','body':'message'}, inplace =True)\n",
    "body_df.dropna(inplace=True)\n",
    "body_df"
   ]
  },
  {
   "cell_type": "markdown",
   "metadata": {},
   "source": [
    "# Percentage of spam vs ham"
   ]
  },
  {
   "cell_type": "code",
   "execution_count": 164,
   "metadata": {},
   "outputs": [
    {
     "data": {
      "text/plain": [
       "44.21515043162895"
      ]
     },
     "execution_count": 164,
     "metadata": {},
     "output_type": "execute_result"
    }
   ],
   "source": [
    "values = body_df['target'].value_counts()\n",
    "total = values.sum()\n",
    "zero = values[0]/total*100\n",
    "one = values[1]/total*100\n",
    "zero"
   ]
  },
  {
   "cell_type": "code",
   "execution_count": 165,
   "metadata": {},
   "outputs": [
    {
     "data": {
      "text/plain": [
       "array([<Axes: ylabel='target'>], dtype=object)"
      ]
     },
     "execution_count": 165,
     "metadata": {},
     "output_type": "execute_result"
    },
    {
     "data": {
      "image/png": "[encoded data removed]",
      "text/plain": [
       "<Figure size 640x480 with 1 Axes>"
      ]
     },
     "metadata": {},
     "output_type": "display_data"
    }
   ],
   "source": [
    "values.plot.pie(subplots=True,labels = ['Spam','Ham'])\n"
   ]
  },
  {
   "cell_type": "markdown",
   "metadata": {},
   "source": [
    "# Data preprocessing"
   ]
  },
  {
   "cell_type": "code",
   "execution_count": 4,
   "metadata": {},
   "outputs": [],
   "source": [
    "lemmatizer = WordNetLemmatizer()\n",
    "stop_words = set(stopwords.words('english'))\n",
    "\n",
    "def transform_text(text):\n",
    "    # Lowercasing\n",
    "    text = text.lower()\n",
    "    \n",
    "    # Replace URLs with a placeholder\n",
    "    text = re.sub(r'http\\S+|www\\S+', 'URL', text)\n",
    "    \n",
    "    # Tokenization\n",
    "    tokens = nltk.word_tokenize(text)\n",
    "    \n",
    "    # Remove non-alphanumeric characters but keep words\n",
    "    tokens = [word for word in tokens if word.isalnum()]\n",
    "    \n",
    "    # Remove stopwords\n",
    "    tokens = [word for word in tokens if word not in stop_words]\n",
    "    \n",
    "    # Lemmatization \n",
    "    tokens = [lemmatizer.lemmatize(word) for word in tokens]\n",
    "    \n",
    "    # Join back into a processed string\n",
    "    return \" \".join(tokens)"
   ]
  },
  {
   "cell_type": "code",
   "execution_count": 59,
   "metadata": {},
   "outputs": [
    {
     "data": {
      "text/plain": [
       "'bolt ride affordable also come number safety feature thing ensure safety train driver verify identity app share eta emergency assist button use rider feedback improve future journey learn bolt safety measure open app safe travel bolt team offer use nairobi kenya information app discount valid 250 kes per trip'"
      ]
     },
     "execution_count": 59,
     "metadata": {},
     "output_type": "execute_result"
    }
   ],
   "source": [
    "transform_text('''\n",
    "\n",
    "Bolt rides are not only affordable, but they also come with a number of safety features.   \n",
    "Here are some of the things we do to ensure your safety:  We train our drivers and verify their identity;\n",
    "Our app has ‘Share your ETA’ and emergency assist buttons; We use rider feedback to improve future journeys.\n",
    "Learn all about Bolt’s safety measures here.  OPEN THE APP  Safe travels! ?? \n",
    "The Bolt team  N.B. This is a limited-time offer that you can use from 2023-07-18 until 2023-07-24 in Nairobi,\n",
    "Kenya. More information in the app. Discount is valid for up to 250 KES per trip.\n",
    "\n",
    "\n",
    "''')"
   ]
  },
  {
   "cell_type": "code",
   "execution_count": 9,
   "metadata": {},
   "outputs": [
    {
     "name": "stderr",
     "output_type": "stream",
     "text": [
      "/var/folders/fj/_pbd8nw171d7sx8h499n9r6w0000gn/T/ipykernel_62693/792759156.py:1: SettingWithCopyWarning: \n",
      "A value is trying to be set on a copy of a slice from a DataFrame.\n",
      "Try using .loc[row_indexer,col_indexer] = value instead\n",
      "\n",
      "See the caveats in the documentation: https://pandas.pydata.org/pandas-docs/stable/user_guide/indexing.html#returning-a-view-versus-a-copy\n",
      "  body_df['transformed_text'] = body_df['message'].apply(transform_text)\n"
     ]
    },
    {
     "data": {
      "text/html": [
       "<div>\n",
       "<style scoped>\n",
       "    .dataframe tbody tr th:only-of-type {\n",
       "        vertical-align: middle;\n",
       "    }\n",
       "\n",
       "    .dataframe tbody tr th {\n",
       "        vertical-align: top;\n",
       "    }\n",
       "\n",
       "    .dataframe thead th {\n",
       "        text-align: right;\n",
       "    }\n",
       "</style>\n",
       "<table border=\"1\" class=\"dataframe\">\n",
       "  <thead>\n",
       "    <tr style=\"text-align: right;\">\n",
       "      <th></th>\n",
       "      <th>target</th>\n",
       "      <th>message</th>\n",
       "      <th>transformed_text</th>\n",
       "    </tr>\n",
       "  </thead>\n",
       "  <tbody>\n",
       "    <tr>\n",
       "      <th>0</th>\n",
       "      <td>1</td>\n",
       "      <td>Buck up, your troubles caused by small dimensi...</td>\n",
       "      <td>buck trouble caused small dimension soon becom...</td>\n",
       "    </tr>\n",
       "    <tr>\n",
       "      <th>1</th>\n",
       "      <td>1</td>\n",
       "      <td>\\nUpgrade your sex and pleasures with these te...</td>\n",
       "      <td>upgrade sex pleasure technique URL</td>\n",
       "    </tr>\n",
       "    <tr>\n",
       "      <th>2</th>\n",
       "      <td>1</td>\n",
       "      <td>&gt;+=+=+=+=+=+=+=+=+=+=+=+=+=+=+=+=+=+=+=+=+=+=+...</td>\n",
       "      <td>daily top 10 top video story aug 1 2008 pm edt...</td>\n",
       "    </tr>\n",
       "    <tr>\n",
       "      <th>3</th>\n",
       "      <td>0</td>\n",
       "      <td>Would anyone object to removing .so from this ...</td>\n",
       "      <td>would anyone object removing list tld basicall...</td>\n",
       "    </tr>\n",
       "    <tr>\n",
       "      <th>4</th>\n",
       "      <td>1</td>\n",
       "      <td>\\nWelcomeFastShippingCustomerSupport\\nhttp://7...</td>\n",
       "      <td>welcomefastshippingcustomersupport URL</td>\n",
       "    </tr>\n",
       "    <tr>\n",
       "      <th>...</th>\n",
       "      <td>...</td>\n",
       "      <td>...</td>\n",
       "      <td>...</td>\n",
       "    </tr>\n",
       "    <tr>\n",
       "      <th>39149</th>\n",
       "      <td>1</td>\n",
       "      <td>\\n\\nCNN Alerts: My Custom Alert\\n\\n\\n\\n\\n\\n\\n ...</td>\n",
       "      <td>cnn alert custom alert alert name custom alert...</td>\n",
       "    </tr>\n",
       "    <tr>\n",
       "      <th>39150</th>\n",
       "      <td>1</td>\n",
       "      <td>\\n\\nCNN Alerts: My Custom Alert\\n\\n\\n\\n\\n\\n\\n ...</td>\n",
       "      <td>cnn alert custom alert alert name custom alert...</td>\n",
       "    </tr>\n",
       "    <tr>\n",
       "      <th>39151</th>\n",
       "      <td>0</td>\n",
       "      <td>Hello there ! \\nGreat work on the slide show v...</td>\n",
       "      <td>hello great work slide show viewer application...</td>\n",
       "    </tr>\n",
       "    <tr>\n",
       "      <th>39152</th>\n",
       "      <td>0</td>\n",
       "      <td>\\nMail from sender , coming from intuit.com\\ns...</td>\n",
       "      <td>mail sender coming server 169 170 subject turb...</td>\n",
       "    </tr>\n",
       "    <tr>\n",
       "      <th>39153</th>\n",
       "      <td>0</td>\n",
       "      <td>Dear fellow Pythonistas!\\n\\nGuido has accepted...</td>\n",
       "      <td>dear fellow pythonistas guido accepted user si...</td>\n",
       "    </tr>\n",
       "  </tbody>\n",
       "</table>\n",
       "<p>39154 rows × 3 columns</p>\n",
       "</div>"
      ],
      "text/plain": [
       "       target                                            message  \\\n",
       "0           1  Buck up, your troubles caused by small dimensi...   \n",
       "1           1  \\nUpgrade your sex and pleasures with these te...   \n",
       "2           1  >+=+=+=+=+=+=+=+=+=+=+=+=+=+=+=+=+=+=+=+=+=+=+...   \n",
       "3           0  Would anyone object to removing .so from this ...   \n",
       "4           1  \\nWelcomeFastShippingCustomerSupport\\nhttp://7...   \n",
       "...       ...                                                ...   \n",
       "39149       1  \\n\\nCNN Alerts: My Custom Alert\\n\\n\\n\\n\\n\\n\\n ...   \n",
       "39150       1  \\n\\nCNN Alerts: My Custom Alert\\n\\n\\n\\n\\n\\n\\n ...   \n",
       "39151       0  Hello there ! \\nGreat work on the slide show v...   \n",
       "39152       0  \\nMail from sender , coming from intuit.com\\ns...   \n",
       "39153       0  Dear fellow Pythonistas!\\n\\nGuido has accepted...   \n",
       "\n",
       "                                        transformed_text  \n",
       "0      buck trouble caused small dimension soon becom...  \n",
       "1                     upgrade sex pleasure technique URL  \n",
       "2      daily top 10 top video story aug 1 2008 pm edt...  \n",
       "3      would anyone object removing list tld basicall...  \n",
       "4                 welcomefastshippingcustomersupport URL  \n",
       "...                                                  ...  \n",
       "39149  cnn alert custom alert alert name custom alert...  \n",
       "39150  cnn alert custom alert alert name custom alert...  \n",
       "39151  hello great work slide show viewer application...  \n",
       "39152  mail sender coming server 169 170 subject turb...  \n",
       "39153  dear fellow pythonistas guido accepted user si...  \n",
       "\n",
       "[39154 rows x 3 columns]"
      ]
     },
     "execution_count": 9,
     "metadata": {},
     "output_type": "execute_result"
    }
   ],
   "source": [
    "body_df['transformed_text'] = body_df['message'].apply(transform_text)\n",
    "body_df"
   ]
  },
  {
   "cell_type": "code",
   "execution_count": 28,
   "metadata": {},
   "outputs": [],
   "source": [
    "ham_carpos = []\n",
    "for sentence in body_df[body_df['target'] == 0]['transformed_text'].tolist():\n",
    "    for word in sentence.split():\n",
    "        ham_carpos.append(word)\n",
    "        \n",
    "spam_carpos = []\n",
    "for sentence in body_df[body_df['target'] == 1]['transformed_text'].tolist():\n",
    "    for word in sentence.split():\n",
    "        spam_carpos.append(word)        \n",
    "\n",
    "        "
   ]
  },
  {
   "cell_type": "code",
   "execution_count": 29,
   "metadata": {},
   "outputs": [
    {
     "data": {
      "image/png": "[encoded data removed]",
      "text/plain": [
       "<Figure size 640x480 with 1 Axes>"
      ]
     },
     "metadata": {},
     "output_type": "display_data"
    }
   ],
   "source": [
    "filter_ham_df = pd.DataFrame(Counter(spam_carpos).most_common(30))\n",
    "filter_spam_df = pd.DataFrame(Counter(ham_carpos).most_common(30))\n",
    "\n",
    "sns.barplot(data = filter_ham_df, x = filter_ham_df[0], y = filter_ham_df[1], palette = 'cool')\n",
    "plt.title('top 30 Not spam words')\n",
    "plt.xticks(rotation=45, ha='right')\n",
    "plt.show()\n"
   ]
  },
  {
   "cell_type": "code",
   "execution_count": 30,
   "metadata": {},
   "outputs": [
    {
     "data": {
      "image/png": "[encoded data removed]",
      "text/plain": [
       "<Figure size 640x480 with 1 Axes>"
      ]
     },
     "metadata": {},
     "output_type": "display_data"
    }
   ],
   "source": [
    "sns.barplot(data = filter_ham_df, x = filter_spam_df[0], y = filter_spam_df[1], palette = 'coolwarm')\n",
    "plt.title('top 30 spam words')\n",
    "plt.xticks(rotation=60, ha='right')\n",
    "plt.show()"
   ]
  },
  {
   "cell_type": "markdown",
   "metadata": {},
   "source": [
    "# New choosing classifier"
   ]
  },
  {
   "cell_type": "code",
   "execution_count": 11,
   "metadata": {},
   "outputs": [],
   "source": [
    "cv = CountVectorizer()\n",
    "tfidf = TfidfVectorizer(max_features = 3000)\n",
    "\n",
    "\n",
    "# define target and features\n",
    "X = tfidf.fit_transform(body_df['transformed_text']).toarray()\n",
    "y = body_df['target'].values.ravel()\n",
    "\n",
    "# train test split\n",
    "\n",
    "from sklearn.model_selection import train_test_split\n",
    "X_train,X_test,y_train,y_test = train_test_split(X,y,test_size=0.2,random_state=2)\n",
    "\n",
    "#classifiers\n",
    "svc = SVC(kernel=\"sigmoid\", gamma=1.0, probability = True)\n",
    "knc = KNeighborsClassifier()\n",
    "mnb = MultinomialNB()\n",
    "dtc = DecisionTreeClassifier(max_depth=5)\n",
    "lrc = LogisticRegression(solver='liblinear', penalty='l1')\n",
    "rfc = RandomForestClassifier(n_estimators=50, random_state=2)\n",
    "abc = AdaBoostClassifier(n_estimators=50, random_state=2)\n",
    "bc = BaggingClassifier(n_estimators=50, random_state=2)\n",
    "etc = ExtraTreesClassifier(n_estimators=50, random_state=2)\n",
    "gbdt = GradientBoostingClassifier(n_estimators=50, random_state=2)\n",
    "\n",
    "# Dictionary for classifiers\n",
    "models = {\n",
    "    'SVC': svc,\n",
    "    'KNN': knc,\n",
    "    'NB': mnb,\n",
    "    'DT': dtc,\n",
    "    'LR': lrc,\n",
    "    'RF': rfc,\n",
    "    'Adaboost': abc,\n",
    "    'Bagging': bc,\n",
    "    'ETC': etc,\n",
    "    'GBDT': gbdt,\n",
    "}"
   ]
  },
  {
   "cell_type": "code",
   "execution_count": 176,
   "metadata": {
    "scrolled": true
   },
   "outputs": [
    {
     "name": "stdout",
     "output_type": "stream",
     "text": [
      "\n",
      "Training: SVC\n",
      "Accuracy: 0.9736\n",
      "Precision: 0.9736\n",
      "Recall: 0.9736\n",
      "F1 Score: 0.9736\n",
      "AUC: 0.9893\n",
      "Confusion Matrix:\n",
      "[[3362  120]\n",
      " [  87 4262]]\n",
      "Support: \n",
      "Class 0: 3482 \n",
      "Class 1: 4349\n",
      "\n",
      "Training: KNN\n",
      "Accuracy: 0.7648\n",
      "Precision: 0.8341\n",
      "Recall: 0.7648\n",
      "F1 Score: 0.7432\n",
      "AUC: 0.8956\n",
      "Confusion Matrix:\n",
      "[[1643 1839]\n",
      " [   3 4346]]\n",
      "Support: \n",
      "Class 0: 3482 \n",
      "Class 1: 4349\n",
      "\n",
      "Training: NB\n",
      "Accuracy: 0.9590\n",
      "Precision: 0.9618\n",
      "Recall: 0.9590\n",
      "F1 Score: 0.9591\n",
      "AUC: 0.9973\n",
      "Confusion Matrix:\n",
      "[[3464   18]\n",
      " [ 303 4046]]\n",
      "Support: \n",
      "Class 0: 3482 \n",
      "Class 1: 4349\n",
      "\n",
      "Training: DT\n",
      "Accuracy: 0.9215\n",
      "Precision: 0.9287\n",
      "Recall: 0.9215\n",
      "F1 Score: 0.9205\n",
      "AUC: 0.9162\n",
      "Confusion Matrix:\n",
      "[[2905  577]\n",
      " [  38 4311]]\n",
      "Support: \n",
      "Class 0: 3482 \n",
      "Class 1: 4349\n",
      "\n",
      "Training: LR\n",
      "Accuracy: 0.9865\n",
      "Precision: 0.9865\n",
      "Recall: 0.9865\n",
      "F1 Score: 0.9865\n",
      "AUC: 0.9989\n",
      "Confusion Matrix:\n",
      "[[3419   63]\n",
      " [  43 4306]]\n",
      "Support: \n",
      "Class 0: 3482 \n",
      "Class 1: 4349\n",
      "\n",
      "Training: RF\n",
      "Accuracy: 0.9891\n",
      "Precision: 0.9892\n",
      "Recall: 0.9891\n",
      "F1 Score: 0.9891\n",
      "AUC: 0.9993\n",
      "Confusion Matrix:\n",
      "[[3445   37]\n",
      " [  48 4301]]\n",
      "Support: \n",
      "Class 0: 3482 \n",
      "Class 1: 4349\n",
      "\n",
      "Training: Adaboost\n",
      "Accuracy: 0.9239\n",
      "Precision: 0.9263\n",
      "Recall: 0.9239\n",
      "F1 Score: 0.9234\n",
      "AUC: 0.9800\n",
      "Confusion Matrix:\n",
      "[[3020  462]\n",
      " [ 134 4215]]\n",
      "Support: \n",
      "Class 0: 3482 \n",
      "Class 1: 4349\n",
      "\n",
      "Training: Bagging\n",
      "Accuracy: 0.9843\n",
      "Precision: 0.9843\n",
      "Recall: 0.9843\n",
      "F1 Score: 0.9843\n",
      "AUC: 0.9974\n",
      "Confusion Matrix:\n",
      "[[3419   63]\n",
      " [  60 4289]]\n",
      "Support: \n",
      "Class 0: 3482 \n",
      "Class 1: 4349\n",
      "\n",
      "Training: ETC\n",
      "Accuracy: 0.9908\n",
      "Precision: 0.9908\n",
      "Recall: 0.9908\n",
      "F1 Score: 0.9908\n",
      "AUC: 0.9993\n",
      "Confusion Matrix:\n",
      "[[3462   20]\n",
      " [  52 4297]]\n",
      "Support: \n",
      "Class 0: 3482 \n",
      "Class 1: 4349\n",
      "\n",
      "Training: GBDT\n",
      "Accuracy: 0.9547\n",
      "Precision: 0.9569\n",
      "Recall: 0.9547\n",
      "F1 Score: 0.9544\n",
      "AUC: 0.9937\n",
      "Confusion Matrix:\n",
      "[[3158  324]\n",
      " [  31 4318]]\n",
      "Support: \n",
      "Class 0: 3482 \n",
      "Class 1: 4349\n",
      "\n",
      "Comparison of Classifiers:\n",
      "      Model  Accuracy  Precision    Recall  F1 Score       AUC       Support\n",
      "8       ETC  0.990806   0.990847  0.990806  0.990810  0.999259  [3482, 4349]\n",
      "5        RF  0.989146   0.989153  0.989146  0.989147  0.999257  [3482, 4349]\n",
      "4        LR  0.986464   0.986469  0.986464  0.986460  0.998879  [3482, 4349]\n",
      "7   Bagging  0.984293   0.984292  0.984293  0.984293  0.997367  [3482, 4349]\n",
      "0       SVC  0.973567   0.973576  0.973567  0.973554  0.989265  [3482, 4349]\n",
      "2        NB  0.959009   0.961775  0.959009  0.959121  0.997331  [3482, 4349]\n",
      "9      GBDT  0.954667   0.956915  0.954667  0.954410  0.993657  [3482, 4349]\n",
      "6  Adaboost  0.923892   0.926250  0.923892  0.923394  0.979982  [3482, 4349]\n",
      "3        DT  0.921466   0.928702  0.921466  0.920463  0.916204  [3482, 4349]\n",
      "1       KNN  0.764781   0.834064  0.764781  0.743171  0.895569  [3482, 4349]\n"
     ]
    }
   ],
   "source": [
    "def train_classifier(model, X_train, y_train, X_test, y_test):\n",
    "    \"\"\"Train model and evaluate performance\"\"\"\n",
    "    model.fit(X_train, y_train)\n",
    "    y_pred = model.predict(X_test)\n",
    "    \n",
    "    # Standard classification metrics\n",
    "    acc = accuracy_score(y_test, y_pred)\n",
    "    prec = precision_score(y_test, y_pred, average='weighted', zero_division=0)\n",
    "    rec = recall_score(y_test, y_pred, average='weighted', zero_division=0)\n",
    "    f1 = f1_score(y_test, y_pred, average='weighted', zero_division=0)\n",
    "\n",
    "    # Instead of passing model.predict_proba(X_test) directly:\n",
    "    y_proba = model.predict_proba(X_test)\n",
    "\n",
    "    # For binary classification, use the probability of the positive class:\n",
    "    if y_proba.shape[1] == 2:\n",
    "        y_proba = y_proba[:, 1]\n",
    "\n",
    "    auc = roc_auc_score(y_test, y_proba)\n",
    "    \n",
    "    cm = confusion_matrix(y_test, y_pred)  # Confusion Matrix\n",
    "    \n",
    "    # Calculate support (number of occurrences of each class in the true responses)\n",
    "    support = np.sum(cm, axis=1)\n",
    "    \n",
    "    return acc, prec, rec, f1, auc, cm, support\n",
    "\n",
    "# Create lists to store the results\n",
    "results = []\n",
    "\n",
    "for name, model in models.items():\n",
    "    print(f\"\\nTraining: {name}\")\n",
    "    try:\n",
    "        # Train and evaluate classifier\n",
    "        acc, prec, rec, f1, auc, cm, support = train_classifier(model, X_train, y_train, X_test, y_test)\n",
    "        \n",
    "        # Store the metrics in the results list\n",
    "        results.append({\n",
    "            'Model': name,\n",
    "            'Accuracy': acc,\n",
    "            'Precision': prec,\n",
    "            'Recall': rec,\n",
    "            'F1 Score': f1,\n",
    "            'AUC': auc,\n",
    "            'Support': support\n",
    "        })\n",
    "        \n",
    "        # Print metrics\n",
    "        print(f\"Accuracy: {acc:.4f}\")\n",
    "        print(f\"Precision: {prec:.4f}\")\n",
    "        print(f\"Recall: {rec:.4f}\")\n",
    "        print(f\"F1 Score: {f1:.4f}\")\n",
    "        print(f\"AUC: {auc:.4f}\")\n",
    "        print(f\"Confusion Matrix:\\n{cm}\")\n",
    "        print(f\"Support: \\nClass 0: {support[0]} \\nClass 1: {support[1]}\")\n",
    "        \n",
    "    except Exception as e:\n",
    "        print(f\"Error in {name}: {e}\")\n",
    "\n",
    "# Convert results into DataFrame for better comparison\n",
    "results_df = pd.DataFrame(results)\n",
    "\n",
    "# Sort results by F1 Score or any other metric that fits your needs\n",
    "results_df = results_df.sort_values(by='F1 Score', ascending=False)\n",
    "\n",
    "print(\"\\nComparison of Classifiers:\")\n",
    "print(results_df)\n"
   ]
  },
  {
   "cell_type": "markdown",
   "metadata": {},
   "source": [
    "Top-left: True negatives (non-spam correctly identified).\n",
    "Top-right: False positives (non-spam incorrectly flagged as spam).\n",
    "Bottom-left: False negatives (spam that was missed).\n",
    "Bottom-right: True positives (spam correctly identified).\n",
    "#from sklearn.metrics import ConfusionMatrixDisplay"
   ]
  },
  {
   "cell_type": "markdown",
   "metadata": {},
   "source": [
    "#  for classifying messages"
   ]
  },
  {
   "cell_type": "code",
   "execution_count": 14,
   "metadata": {
    "scrolled": true
   },
   "outputs": [],
   "source": [
    "# Vectorize the text\n",
    "tfidf = TfidfVectorizer(max_features=3000, ngram_range=(1,2), stop_words='english')\n",
    "X = tfidf.fit_transform(body_df['transformed_text']).toarray()\n",
    "y = body_df['target'].values"
   ]
  },
  {
   "cell_type": "code",
   "execution_count": 25,
   "metadata": {},
   "outputs": [
    {
     "name": "stdout",
     "output_type": "stream",
     "text": [
      "Average Accuracy across folds: 0.9809\n"
     ]
    }
   ],
   "source": [
    "# Cross-validation setup\n",
    "skf = StratifiedKFold(n_splits=5, shuffle=True, random_state=42)\n",
    "model = ExtraTreesClassifier(n_estimators= 150, min_samples_split=2, min_samples_leaf=1, max_depth=45, criterion='entropy', random_state=2)\n",
    "\n",
    "\n",
    "\n",
    "accuracies = []\n",
    "for train_index, test_index in skf.split(X, y):\n",
    "    X_train_fold, X_test_fold = X[train_index], X[test_index]\n",
    "    y_train_fold, y_test_fold = y[train_index], y[test_index]\n",
    "\n",
    "    model.fit(X_train_fold, y_train_fold)\n",
    "    y_pred = model.predict(X_test_fold)\n",
    "\n",
    "    acc = accuracy_score(y_test_fold, y_pred)\n",
    "    accuracies.append(acc)\n",
    "\n",
    "print(f\"Average Accuracy across folds: {np.mean(accuracies):.4f}\")"
   ]
  },
  {
   "cell_type": "code",
   "execution_count": 58,
   "metadata": {},
   "outputs": [
    {
     "name": "stdout",
     "output_type": "stream",
     "text": [
      "Prediction: Not Spam\n",
      "Spam Probability: 0.1422\n"
     ]
    }
   ],
   "source": [
    "# **Making a New Prediction**\n",
    "new_text = ['''\n",
    "Hi,    Thank you for your interest in joining Appen! This email is to officially invite you to a NEW Project on Appen 9 Platform A5655?Request detail 27?Asia Image Collection Project.    To apply for this project, click here to log on Appen Connect, then click here (project link) to opt in to China platform by still using your Appen Connect email address and password.  Your payment will be processed through Appen Connect to your Payoneer account after your work is accepted.    Project Overview:  You are invited to participate in a new image collection and annotation project. We are actively seeking participants who are interested in being the image subjects.  The project seeks to build a large set of annotated images to help machine learning (ML) and artificial intelligence (AI) systems perform more fairly and ethically across a diverse range of people. By participating in this project, your image, demographics, and related annotations (“Your Data”) may be shared publicly so that the broader AI community may develop, train, and evaluate ML and AI software, algorithms, and other technologies. This means that your images would be individually viewable among several thousand other images in the dataset. In addition, your data and images could be published in various media in connection with promotions or publications related to the image dataset. For example, your image could be used as a sample image in an academic paper related to the image dataset or in a blog post or presentation promoting the dataset. Your name and email address will not be shared publicly, and individuals accessing the image set will be contractually. restricted from attempting to re-identify you, along with other reasonable use restrictions.  To participate as an image subject, you must:  ? Provide 10 different images of yourself in different poses and attire with a minimum of 1  day between each image  ? Provide self-reported demographics (e.g., ancestry, pronoun, nationality, country of  residence, age)  ? Provide images taken with a smartphone, DSLR camera, or compact camera with at  least 8-megapixels, manufactured after 2011.  ? Read and agree to the project’s informed consent form  ? Be at least the age of majority where you reside.  We are looking to pay a range of 3 ($)/row.  Kindly wait for the Project team email as they will reach out to those who will be considered to work on their project.  Note: Sharing photos and other information online is fairly commonplace, however, it’s important to remember the risks when allowing Your Data to be shared online. Once Your Data is made public, it could possibly be used for unauthorized or unintended purposes, such as catfishing or deep fakes or sold to third parties for various purposes, such as targeted advertising or other commercial or political activities. It's important to carefully consider the potential risks before participating in this project.    Project Opt In Guidelines: https://connect.appen.com/qrp/public-files/emails/2023/06/A5655_Image_Collection_NEW_v2.pdf    To find out more about this project or if you have any questions/issues, please contact the project support - yuyang@appen.com with email subject: “A5655?Request detail 27?Asia Image Collection Project”.    We are extremely excited to have you join the Appen 9 Crowd and participate in the Project!    Kind regards,  Appen 9 Support Team  If you have any questions or concerns about this message, please contact support.\n",
    "\n",
    "            ''']\n",
    "new_text_tfidf = tfidf.transform(new_text).toarray()  \n",
    "\n",
    "prediction = model.predict(new_text_tfidf)\n",
    "print(f\"Prediction: {'Spam' if prediction[0] == 1 else 'Not Spam'}\")\n",
    "\n",
    "#probability score for spam:\n",
    "spam_probability = model.predict_proba(new_text_tfidf)[0][1]\n",
    "print(f\"Spam Probability: {spam_probability:.4f}\")\n"
   ]
  },
  {
   "cell_type": "code",
   "execution_count": 53,
   "metadata": {},
   "outputs": [
    {
     "data": {
      "text/plain": [
       "1"
      ]
     },
     "execution_count": 53,
     "metadata": {},
     "output_type": "execute_result"
    }
   ],
   "source": [
    "prediction[0]"
   ]
  },
  {
   "cell_type": "markdown",
   "metadata": {},
   "source": [
    "# Hyperparameter tuning"
   ]
  },
  {
   "cell_type": "code",
   "execution_count": 225,
   "metadata": {},
   "outputs": [],
   "source": [
    "ExtraTreesClassifier??"
   ]
  },
  {
   "cell_type": "code",
   "execution_count": 22,
   "metadata": {},
   "outputs": [
    {
     "name": "stdout",
     "output_type": "stream",
     "text": [
      "Fitting 3 folds for each of 10 candidates, totalling 30 fits\n",
      "Best Parameters from RandomizedSearchCV:\n",
      "{'n_estimators': 150, 'min_samples_split': 2, 'min_samples_leaf': 1, 'max_features': None, 'max_depth': 45, 'criterion': 'entropy', 'class_weight': None}\n",
      "Best Cross-Validation Score: 0.9780000795520464\n"
     ]
    }
   ],
   "source": [
    "# Define constants\n",
    "RANDOM_STATE = 42\n",
    "N_JOBS = -1   # Use all available cores\n",
    "VERBOSE = 1   # Controls verbosity\n",
    "\n",
    "# Initialize the ExtraTreesClassifier\n",
    "etc_clf = ExtraTreesClassifier(random_state=RANDOM_STATE)\n",
    "\n",
    "# Define parameter grid for tuning\n",
    "param_dist = {\n",
    "    'n_estimators': np.arange(50, 1001, 50),              # Number of trees in the forest\n",
    "    'max_depth': [None] + list(np.arange(5, 51, 5)),       # Maximum depth of each tree\n",
    "    'min_samples_split': [2, 5, 10],                       # Minimum samples required to split an internal node\n",
    "    'min_samples_leaf': [1, 2, 4],                         # Minimum samples required at a leaf node\n",
    "    'max_features': ['sqrt', 'log2', None, 0.2, 0.5, 0.8], # Number of features to consider when looking for the best split\n",
    "    'criterion': ['gini', 'entropy'],                    # Function to measure the quality of a split\n",
    "    'class_weight': [None, 'balanced']                   # Handle class imbalance\n",
    "}\n",
    "\n",
    "# Assuming X_train_fold and y_train_fold are already defined,\n",
    "# create a smaller subset for quick tuning.\n",
    "X_small = X_train_fold[:10000]\n",
    "y_small = y_train_fold[:10000]\n",
    "\n",
    "# Set up RandomizedSearchCV\n",
    "random_search = RandomizedSearchCV(estimator=etc_clf,\n",
    "                                   param_distributions=param_dist,\n",
    "                                   n_iter=10,    # Number of parameter settings sampled\n",
    "                                   cv=3,         # 3-fold cross-validation\n",
    "                                   verbose=VERBOSE,\n",
    "                                   n_jobs=N_JOBS,\n",
    "                                   random_state=RANDOM_STATE)\n",
    "\n",
    "# Fit the model on the subset of data\n",
    "random_search.fit(X_small, y_small)\n",
    "\n",
    "# Output the best parameters and corresponding score\n",
    "print(\"Best Parameters from RandomizedSearchCV:\")\n",
    "print(random_search.best_params_)\n",
    "print(\"Best Cross-Validation Score:\", random_search.best_score_)\n",
    "\n"
   ]
  }
 ],
 "metadata": {
  "kernelspec": {
   "display_name": "Python 3 (ipykernel)",
   "language": "python",
   "name": "python3"
  },
  "language_info": {
   "codemirror_mode": {
    "name": "ipython",
    "version": 3
   },
   "file_extension": ".py",
   "mimetype": "text/x-python",
   "name": "python",
   "nbconvert_exporter": "python",
   "pygments_lexer": "ipython3",
   "version": "3.11.7"
  }
 },
 "nbformat": 4,
 "nbformat_minor": 4
}
